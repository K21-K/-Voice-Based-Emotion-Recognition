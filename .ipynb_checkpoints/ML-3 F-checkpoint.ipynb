{
 "cells": [
  {
   "cell_type": "markdown",
   "metadata": {},
   "source": [
    "# EMOTION RECOGNITION THROUGH VOICE"
   ]
  },
  {
   "cell_type": "code",
   "execution_count": 1,
   "metadata": {
    "scrolled": true
   },
   "outputs": [
    {
     "name": "stderr",
     "output_type": "stream",
     "text": [
      "C:\\Users\\vamshi\\anaconda3\\lib\\site-packages\\paramiko\\transport.py:219: CryptographyDeprecationWarning: Blowfish has been deprecated\n",
      "  \"class\": algorithms.Blowfish,\n"
     ]
    }
   ],
   "source": [
    "import numpy as np\n",
    "import pandas as pd\n",
    "import os\n",
    "import librosa\n",
    "import wave\n",
    "import matplotlib.pyplot as plt\n",
    "from keras.utils import to_categorical"
   ]
  },
  {
   "cell_type": "code",
   "execution_count": 2,
   "metadata": {},
   "outputs": [],
   "source": [
    "# all emotions on RAVDESS dataset\n",
    "int2emotion = {\n",
    "    \"01\": \"neutral\",\n",
    "    \"02\": \"calm\",\n",
    "    \"03\": \"happy\",\n",
    "    \"04\": \"sad\",\n",
    "    \"05\": \"angry\",\n",
    "    \"06\": \"fearful\",\n",
    "    \"07\": \"disgust\",\n",
    "    \"08\": \"surprised\"\n",
    "}\n",
    "\n",
    "# we allow only these emotions ( feel free to tune this on your need )\n",
    "AVAILABLE_EMOTIONS = {\n",
    "    \"angry\",\n",
    "    \"sad\",\n",
    "    \"neutral\",\n",
    "    \"happy\"\n",
    "}"
   ]
  },
  {
   "cell_type": "code",
   "execution_count": 3,
   "metadata": {},
   "outputs": [],
   "source": [
    "def extract_mfcc(file_name):\n",
    "    y,sr=librosa.load(file_name)\n",
    "    mfccs = np.mean(librosa.feature.mfcc(y=y,sr=sr,n_mfcc=40),axis=1) #y represents the amplitudes .\n",
    "    #sr(sample rate) represents no.of waves per second.n_mfcc(number of MFCCs to return)is set to 40 because there can be differnt amplitudes so it will take till 40\n",
    "    #axis=1 means mean is calculated column wise(if axis=0 row wise)\n",
    "    #y,sr,n_mfcc are the inputs to librosa.feature.mfcc fuction which calcutes the mfcc feature once it is calculated mean of it is taken col wise\n",
    "    return(mfccs)"
   ]
  },
  {
   "cell_type": "code",
   "execution_count": 4,
   "metadata": {},
   "outputs": [
    {
     "data": {
      "text/plain": [
       "(20, 166)"
      ]
     },
     "execution_count": 4,
     "metadata": {},
     "output_type": "execute_result"
    }
   ],
   "source": [
    "y,sr=librosa.load(r'C:/Users/vamshi/Desktop/ML-3 FINAL/MPData1/Actor_10/03-01-01-01-01-02-10.wav') # entire path has to be given\n",
    "x=librosa.feature.mfcc(y=y,sr=sr)\n",
    "x.shape\n",
    "#(20,166) means mfcc is not a single value it is got 20 rows n 166 col"
   ]
  },
  {
   "cell_type": "code",
   "execution_count": 5,
   "metadata": {},
   "outputs": [],
   "source": [
    "z=np.mean(x,axis=1)"
   ]
  },
  {
   "cell_type": "code",
   "execution_count": 6,
   "metadata": {},
   "outputs": [
    {
     "data": {
      "text/plain": [
       "(20,)"
      ]
     },
     "execution_count": 6,
     "metadata": {},
     "output_type": "execute_result"
    }
   ],
   "source": [
    "z.shape"
   ]
  },
  {
   "cell_type": "code",
   "execution_count": 7,
   "metadata": {},
   "outputs": [
    {
     "data": {
      "text/plain": [
       "array([-4.8606535e-07, -7.2319861e-05,  1.2287173e-04, ...,\n",
       "        8.9427995e-05,  8.4595325e-05,  0.0000000e+00], dtype=float32)"
      ]
     },
     "execution_count": 7,
     "metadata": {},
     "output_type": "execute_result"
    }
   ],
   "source": [
    "y"
   ]
  },
  {
   "cell_type": "code",
   "execution_count": 8,
   "metadata": {},
   "outputs": [
    {
     "data": {
      "text/plain": [
       "22050"
      ]
     },
     "execution_count": 8,
     "metadata": {},
     "output_type": "execute_result"
    }
   ],
   "source": [
    "sr # sr is a single value"
   ]
  },
  {
   "cell_type": "code",
   "execution_count": 9,
   "metadata": {},
   "outputs": [
    {
     "data": {
      "text/plain": [
       "3.83718820861678"
      ]
     },
     "execution_count": 9,
     "metadata": {},
     "output_type": "execute_result"
    }
   ],
   "source": [
    "y.shape[0]/sr # y gives wav  sr gives wav/sec so wav/(wav/sec) gives sec i.e time...here time of the audio recorded"
   ]
  },
  {
   "cell_type": "markdown",
   "metadata": {},
   "source": [
    "### extract audio data from the dataset"
   ]
  },
  {
   "cell_type": "code",
   "execution_count": 10,
   "metadata": {},
   "outputs": [],
   "source": [
    "root_dic='C:/Users/vamshi/Desktop/ML-3 FINAL/MPData1' # entire path has to be given\n",
    "data=[]\n",
    "labels=[]\n",
    "for subdirs,dirs,files in os.walk(root_dic):\n",
    "    for file in files:\n",
    "        temp_lable = int2emotion[str(file[6:8])]\n",
    "        if temp_lable in AVAILABLE_EMOTIONS:\n",
    "            y,sr=librosa.load(os.path.join(subdirs,file)) #for librosa load we have to give the entire path so we join subdir(path for dictonary) and file(.wav file)\n",
    "            mfccs = np.mean(librosa.feature.mfcc(y=y,sr=sr,n_mfcc=40),axis=1)\n",
    "            data.append(mfccs)\n",
    "            labels.append(int(file[7:8])-1) # file name 03-01-06-01-01-01-11 index value 0,1..... it takes 7th index value i.e the lable for the emotion\n",
    "        # -1 will make the labels from 0-7 rather than 1-8"
   ]
  },
  {
   "cell_type": "code",
   "execution_count": 11,
   "metadata": {},
   "outputs": [
    {
     "data": {
      "text/plain": [
       "(672, 40)"
      ]
     },
     "execution_count": 11,
     "metadata": {},
     "output_type": "execute_result"
    }
   ],
   "source": [
    "#store them to arrays for testing\n",
    "data_array=np.array(data)\n",
    "labels_array=np.array(labels)\n",
    "data_array.shape"
   ]
  },
  {
   "cell_type": "code",
   "execution_count": 12,
   "metadata": {},
   "outputs": [
    {
     "data": {
      "image/png": "[encoded data removed]",
      "text/plain": [
       "<Figure size 640x480 with 1 Axes>"
      ]
     },
     "metadata": {},
     "output_type": "display_data"
    }
   ],
   "source": [
    "plt.hist(labels)\n",
    "plt.show()"
   ]
  },
  {
   "cell_type": "code",
   "execution_count": 13,
   "metadata": {},
   "outputs": [
    {
     "data": {
      "text/plain": [
       "(672, 40)"
      ]
     },
     "execution_count": 13,
     "metadata": {},
     "output_type": "execute_result"
    }
   ],
   "source": [
    "data_array.shape"
   ]
  },
  {
   "cell_type": "code",
   "execution_count": 14,
   "metadata": {},
   "outputs": [
    {
     "data": {
      "text/plain": [
       "(672,)"
      ]
     },
     "execution_count": 14,
     "metadata": {},
     "output_type": "execute_result"
    }
   ],
   "source": [
    "labels_array.shape"
   ]
  },
  {
   "cell_type": "code",
   "execution_count": 15,
   "metadata": {},
   "outputs": [
    {
     "data": {
      "text/plain": [
       "[0,\n",
       " 0,\n",
       " 0,\n",
       " 0,\n",
       " 2,\n",
       " 2,\n",
       " 2,\n",
       " 2,\n",
       " 2,\n",
       " 2,\n",
       " 2,\n",
       " 2,\n",
       " 3,\n",
       " 3,\n",
       " 3,\n",
       " 3,\n",
       " 3,\n",
       " 3,\n",
       " 3,\n",
       " 3,\n",
       " 4,\n",
       " 4,\n",
       " 4,\n",
       " 4,\n",
       " 4,\n",
       " 4,\n",
       " 4,\n",
       " 4,\n",
       " 0,\n",
       " 0,\n",
       " 0,\n",
       " 0,\n",
       " 2,\n",
       " 2,\n",
       " 2,\n",
       " 2,\n",
       " 2,\n",
       " 2,\n",
       " 2,\n",
       " 2,\n",
       " 3,\n",
       " 3,\n",
       " 3,\n",
       " 3,\n",
       " 3,\n",
       " 3,\n",
       " 3,\n",
       " 3,\n",
       " 4,\n",
       " 4,\n",
       " 4,\n",
       " 4,\n",
       " 4,\n",
       " 4,\n",
       " 4,\n",
       " 4,\n",
       " 0,\n",
       " 0,\n",
       " 0,\n",
       " 0,\n",
       " 2,\n",
       " 2,\n",
       " 2,\n",
       " 2,\n",
       " 2,\n",
       " 2,\n",
       " 2,\n",
       " 2,\n",
       " 3,\n",
       " 3,\n",
       " 3,\n",
       " 3,\n",
       " 3,\n",
       " 3,\n",
       " 3,\n",
       " 3,\n",
       " 4,\n",
       " 4,\n",
       " 4,\n",
       " 4,\n",
       " 4,\n",
       " 4,\n",
       " 4,\n",
       " 4,\n",
       " 0,\n",
       " 0,\n",
       " 0,\n",
       " 0,\n",
       " 2,\n",
       " 2,\n",
       " 2,\n",
       " 2,\n",
       " 2,\n",
       " 2,\n",
       " 2,\n",
       " 2,\n",
       " 3,\n",
       " 3,\n",
       " 3,\n",
       " 3,\n",
       " 3,\n",
       " 3,\n",
       " 3,\n",
       " 3,\n",
       " 4,\n",
       " 4,\n",
       " 4,\n",
       " 4,\n",
       " 4,\n",
       " 4,\n",
       " 4,\n",
       " 4,\n",
       " 0,\n",
       " 0,\n",
       " 0,\n",
       " 0,\n",
       " 2,\n",
       " 2,\n",
       " 2,\n",
       " 2,\n",
       " 2,\n",
       " 2,\n",
       " 2,\n",
       " 2,\n",
       " 3,\n",
       " 3,\n",
       " 3,\n",
       " 3,\n",
       " 3,\n",
       " 3,\n",
       " 3,\n",
       " 3,\n",
       " 4,\n",
       " 4,\n",
       " 4,\n",
       " 4,\n",
       " 4,\n",
       " 4,\n",
       " 4,\n",
       " 4,\n",
       " 0,\n",
       " 0,\n",
       " 0,\n",
       " 0,\n",
       " 2,\n",
       " 2,\n",
       " 2,\n",
       " 2,\n",
       " 2,\n",
       " 2,\n",
       " 2,\n",
       " 2,\n",
       " 3,\n",
       " 3,\n",
       " 3,\n",
       " 3,\n",
       " 3,\n",
       " 3,\n",
       " 3,\n",
       " 3,\n",
       " 4,\n",
       " 4,\n",
       " 4,\n",
       " 4,\n",
       " 4,\n",
       " 4,\n",
       " 4,\n",
       " 4,\n",
       " 0,\n",
       " 0,\n",
       " 0,\n",
       " 0,\n",
       " 2,\n",
       " 2,\n",
       " 2,\n",
       " 2,\n",
       " 2,\n",
       " 2,\n",
       " 2,\n",
       " 2,\n",
       " 3,\n",
       " 3,\n",
       " 3,\n",
       " 3,\n",
       " 3,\n",
       " 3,\n",
       " 3,\n",
       " 3,\n",
       " 4,\n",
       " 4,\n",
       " 4,\n",
       " 4,\n",
       " 4,\n",
       " 4,\n",
       " 4,\n",
       " 4,\n",
       " 0,\n",
       " 0,\n",
       " 0,\n",
       " 0,\n",
       " 2,\n",
       " 2,\n",
       " 2,\n",
       " 2,\n",
       " 2,\n",
       " 2,\n",
       " 2,\n",
       " 2,\n",
       " 3,\n",
       " 3,\n",
       " 3,\n",
       " 3,\n",
       " 3,\n",
       " 3,\n",
       " 3,\n",
       " 3,\n",
       " 4,\n",
       " 4,\n",
       " 4,\n",
       " 4,\n",
       " 4,\n",
       " 4,\n",
       " 4,\n",
       " 4,\n",
       " 0,\n",
       " 0,\n",
       " 0,\n",
       " 0,\n",
       " 2,\n",
       " 2,\n",
       " 2,\n",
       " 2,\n",
       " 2,\n",
       " 2,\n",
       " 2,\n",
       " 2,\n",
       " 3,\n",
       " 3,\n",
       " 3,\n",
       " 3,\n",
       " 3,\n",
       " 3,\n",
       " 3,\n",
       " 3,\n",
       " 4,\n",
       " 4,\n",
       " 4,\n",
       " 4,\n",
       " 4,\n",
       " 4,\n",
       " 4,\n",
       " 4,\n",
       " 0,\n",
       " 0,\n",
       " 0,\n",
       " 0,\n",
       " 2,\n",
       " 2,\n",
       " 2,\n",
       " 2,\n",
       " 2,\n",
       " 2,\n",
       " 2,\n",
       " 2,\n",
       " 3,\n",
       " 3,\n",
       " 3,\n",
       " 3,\n",
       " 3,\n",
       " 3,\n",
       " 3,\n",
       " 3,\n",
       " 4,\n",
       " 4,\n",
       " 4,\n",
       " 4,\n",
       " 4,\n",
       " 4,\n",
       " 4,\n",
       " 4,\n",
       " 0,\n",
       " 0,\n",
       " 0,\n",
       " 0,\n",
       " 2,\n",
       " 2,\n",
       " 2,\n",
       " 2,\n",
       " 2,\n",
       " 2,\n",
       " 2,\n",
       " 2,\n",
       " 3,\n",
       " 3,\n",
       " 3,\n",
       " 3,\n",
       " 3,\n",
       " 3,\n",
       " 3,\n",
       " 3,\n",
       " 4,\n",
       " 4,\n",
       " 4,\n",
       " 4,\n",
       " 4,\n",
       " 4,\n",
       " 4,\n",
       " 4,\n",
       " 0,\n",
       " 0,\n",
       " 0,\n",
       " 0,\n",
       " 2,\n",
       " 2,\n",
       " 2,\n",
       " 2,\n",
       " 2,\n",
       " 2,\n",
       " 2,\n",
       " 2,\n",
       " 3,\n",
       " 3,\n",
       " 3,\n",
       " 3,\n",
       " 3,\n",
       " 3,\n",
       " 3,\n",
       " 3,\n",
       " 4,\n",
       " 4,\n",
       " 4,\n",
       " 4,\n",
       " 4,\n",
       " 4,\n",
       " 4,\n",
       " 4,\n",
       " 0,\n",
       " 0,\n",
       " 0,\n",
       " 0,\n",
       " 2,\n",
       " 2,\n",
       " 2,\n",
       " 2,\n",
       " 2,\n",
       " 2,\n",
       " 2,\n",
       " 2,\n",
       " 3,\n",
       " 3,\n",
       " 3,\n",
       " 3,\n",
       " 3,\n",
       " 3,\n",
       " 3,\n",
       " 3,\n",
       " 4,\n",
       " 4,\n",
       " 4,\n",
       " 4,\n",
       " 4,\n",
       " 4,\n",
       " 4,\n",
       " 4,\n",
       " 0,\n",
       " 0,\n",
       " 0,\n",
       " 0,\n",
       " 2,\n",
       " 2,\n",
       " 2,\n",
       " 2,\n",
       " 2,\n",
       " 2,\n",
       " 2,\n",
       " 2,\n",
       " 3,\n",
       " 3,\n",
       " 3,\n",
       " 3,\n",
       " 3,\n",
       " 3,\n",
       " 3,\n",
       " 3,\n",
       " 4,\n",
       " 4,\n",
       " 4,\n",
       " 4,\n",
       " 4,\n",
       " 4,\n",
       " 4,\n",
       " 4,\n",
       " 0,\n",
       " 0,\n",
       " 0,\n",
       " 0,\n",
       " 2,\n",
       " 2,\n",
       " 2,\n",
       " 2,\n",
       " 2,\n",
       " 2,\n",
       " 2,\n",
       " 2,\n",
       " 3,\n",
       " 3,\n",
       " 3,\n",
       " 3,\n",
       " 3,\n",
       " 3,\n",
       " 3,\n",
       " 3,\n",
       " 4,\n",
       " 4,\n",
       " 4,\n",
       " 4,\n",
       " 4,\n",
       " 4,\n",
       " 4,\n",
       " 4,\n",
       " 0,\n",
       " 0,\n",
       " 0,\n",
       " 0,\n",
       " 2,\n",
       " 2,\n",
       " 2,\n",
       " 2,\n",
       " 2,\n",
       " 2,\n",
       " 2,\n",
       " 2,\n",
       " 3,\n",
       " 3,\n",
       " 3,\n",
       " 3,\n",
       " 3,\n",
       " 3,\n",
       " 3,\n",
       " 3,\n",
       " 4,\n",
       " 4,\n",
       " 4,\n",
       " 4,\n",
       " 4,\n",
       " 4,\n",
       " 4,\n",
       " 4,\n",
       " 0,\n",
       " 0,\n",
       " 0,\n",
       " 0,\n",
       " 2,\n",
       " 2,\n",
       " 2,\n",
       " 2,\n",
       " 2,\n",
       " 2,\n",
       " 2,\n",
       " 2,\n",
       " 3,\n",
       " 3,\n",
       " 3,\n",
       " 3,\n",
       " 3,\n",
       " 3,\n",
       " 3,\n",
       " 3,\n",
       " 4,\n",
       " 4,\n",
       " 4,\n",
       " 4,\n",
       " 4,\n",
       " 4,\n",
       " 4,\n",
       " 4,\n",
       " 0,\n",
       " 0,\n",
       " 0,\n",
       " 0,\n",
       " 2,\n",
       " 2,\n",
       " 2,\n",
       " 2,\n",
       " 2,\n",
       " 2,\n",
       " 2,\n",
       " 2,\n",
       " 3,\n",
       " 3,\n",
       " 3,\n",
       " 3,\n",
       " 3,\n",
       " 3,\n",
       " 3,\n",
       " 3,\n",
       " 4,\n",
       " 4,\n",
       " 4,\n",
       " 4,\n",
       " 4,\n",
       " 4,\n",
       " 4,\n",
       " 4,\n",
       " 0,\n",
       " 0,\n",
       " 0,\n",
       " 0,\n",
       " 2,\n",
       " 2,\n",
       " 2,\n",
       " 2,\n",
       " 2,\n",
       " 2,\n",
       " 2,\n",
       " 2,\n",
       " 3,\n",
       " 3,\n",
       " 3,\n",
       " 3,\n",
       " 3,\n",
       " 3,\n",
       " 3,\n",
       " 3,\n",
       " 4,\n",
       " 4,\n",
       " 4,\n",
       " 4,\n",
       " 4,\n",
       " 4,\n",
       " 4,\n",
       " 4,\n",
       " 0,\n",
       " 0,\n",
       " 0,\n",
       " 0,\n",
       " 2,\n",
       " 2,\n",
       " 2,\n",
       " 2,\n",
       " 2,\n",
       " 2,\n",
       " 2,\n",
       " 2,\n",
       " 3,\n",
       " 3,\n",
       " 3,\n",
       " 3,\n",
       " 3,\n",
       " 3,\n",
       " 3,\n",
       " 3,\n",
       " 4,\n",
       " 4,\n",
       " 4,\n",
       " 4,\n",
       " 4,\n",
       " 4,\n",
       " 4,\n",
       " 4,\n",
       " 0,\n",
       " 0,\n",
       " 0,\n",
       " 0,\n",
       " 2,\n",
       " 2,\n",
       " 2,\n",
       " 2,\n",
       " 2,\n",
       " 2,\n",
       " 2,\n",
       " 2,\n",
       " 3,\n",
       " 3,\n",
       " 3,\n",
       " 3,\n",
       " 3,\n",
       " 3,\n",
       " 3,\n",
       " 3,\n",
       " 4,\n",
       " 4,\n",
       " 4,\n",
       " 4,\n",
       " 4,\n",
       " 4,\n",
       " 4,\n",
       " 4,\n",
       " 0,\n",
       " 0,\n",
       " 0,\n",
       " 0,\n",
       " 2,\n",
       " 2,\n",
       " 2,\n",
       " 2,\n",
       " 2,\n",
       " 2,\n",
       " 2,\n",
       " 2,\n",
       " 3,\n",
       " 3,\n",
       " 3,\n",
       " 3,\n",
       " 3,\n",
       " 3,\n",
       " 3,\n",
       " 3,\n",
       " 4,\n",
       " 4,\n",
       " 4,\n",
       " 4,\n",
       " 4,\n",
       " 4,\n",
       " 4,\n",
       " 4,\n",
       " 0,\n",
       " 0,\n",
       " 0,\n",
       " 0,\n",
       " 2,\n",
       " 2,\n",
       " 2,\n",
       " 2,\n",
       " 2,\n",
       " 2,\n",
       " 2,\n",
       " 2,\n",
       " 3,\n",
       " 3,\n",
       " 3,\n",
       " 3,\n",
       " 3,\n",
       " 3,\n",
       " 3,\n",
       " 3,\n",
       " 4,\n",
       " 4,\n",
       " 4,\n",
       " 4,\n",
       " 4,\n",
       " 4,\n",
       " 4,\n",
       " 4,\n",
       " 0,\n",
       " 0,\n",
       " 0,\n",
       " 0,\n",
       " 2,\n",
       " 2,\n",
       " 2,\n",
       " 2,\n",
       " 2,\n",
       " 2,\n",
       " 2,\n",
       " 2,\n",
       " 3,\n",
       " 3,\n",
       " 3,\n",
       " 3,\n",
       " 3,\n",
       " 3,\n",
       " 3,\n",
       " 3,\n",
       " 4,\n",
       " 4,\n",
       " 4,\n",
       " 4,\n",
       " 4,\n",
       " 4,\n",
       " 4,\n",
       " 4]"
      ]
     },
     "execution_count": 15,
     "metadata": {},
     "output_type": "execute_result"
    }
   ],
   "source": [
    "labels"
   ]
  },
  {
   "cell_type": "code",
   "execution_count": 16,
   "metadata": {},
   "outputs": [],
   "source": [
    "##### load data from savee dataset\n",
    "#### although, we load the data here, it is not used in training or validation\n",
    "root_dir = \"C:/Users/vamshi/Desktop/ML-3 FINAL/SAVEE\" # entire path has to be given\n",
    "# root_dir = \"../input/audio_speech_actors_01-24/\"\n",
    "savee_data = []\n",
    "savee_labels = []\n",
    "for actor_dir in sorted(os.listdir(root_dir)):\n",
    "    if actor_dir[-4:] == \".txt\":\n",
    "        continue\n",
    "    for file_name in os.listdir(os.path.join(root_dir, actor_dir)):\n",
    "        if file_name[0] == \"c\":\n",
    "            continue\n",
    "        wav_file_name = os.path.join(root_dir, actor_dir, file_name)\n",
    "        if file_name[0] == \"n\":\n",
    "            savee_labels.append(0)\n",
    "            savee_data.append(extract_mfcc(wav_file_name))\n",
    "        if file_name[0] == \"a\":\n",
    "            savee_labels.append(4)\n",
    "            savee_data.append(extract_mfcc(wav_file_name))\n",
    "        if file_name[0] == \"h\":\n",
    "            savee_labels.append(2)\n",
    "            savee_data.append(extract_mfcc(wav_file_name))\n",
    "        if file_name[:2] == \"sa\":\n",
    "            savee_labels.append(3)\n",
    "            savee_data.append(extract_mfcc(wav_file_name))"
   ]
  },
  {
   "cell_type": "code",
   "execution_count": 17,
   "metadata": {},
   "outputs": [],
   "source": [
    "savee_data_array = np.asarray(savee_data)\n",
    "savee_label_array = np.array(savee_labels)"
   ]
  },
  {
   "cell_type": "code",
   "execution_count": 18,
   "metadata": {},
   "outputs": [
    {
     "data": {
      "text/plain": [
       "(300, 40)"
      ]
     },
     "execution_count": 18,
     "metadata": {},
     "output_type": "execute_result"
    }
   ],
   "source": [
    "savee_data_array.shape"
   ]
  },
  {
   "cell_type": "code",
   "execution_count": 19,
   "metadata": {},
   "outputs": [
    {
     "data": {
      "text/plain": [
       "array([4, 4, 4, 4, 4, 4, 4, 4, 4, 4, 4, 4, 4, 4, 4, 2, 2, 2, 2, 2, 2, 2,\n",
       "       2, 2, 2, 2, 2, 2, 2, 2, 0, 0, 0, 0, 0, 0, 0, 0, 0, 0, 0, 0, 0, 0,\n",
       "       0, 0, 0, 0, 0, 0, 0, 0, 0, 0, 0, 0, 0, 0, 0, 0, 3, 3, 3, 3, 3, 3,\n",
       "       3, 3, 3, 3, 3, 3, 3, 3, 3, 4, 4, 4, 4, 4, 4, 4, 4, 4, 4, 4, 4, 4,\n",
       "       4, 4, 2, 2, 2, 2, 2, 2, 2, 2, 2, 2, 2, 2, 2, 2, 2, 0, 0, 0, 0, 0,\n",
       "       0, 0, 0, 0, 0, 0, 0, 0, 0, 0, 0, 0, 0, 0, 0, 0, 0, 0, 0, 0, 0, 0,\n",
       "       0, 0, 0, 3, 3, 3, 3, 3, 3, 3, 3, 3, 3, 3, 3, 3, 3, 3, 4, 4, 4, 4,\n",
       "       4, 4, 4, 4, 4, 4, 4, 4, 4, 4, 4, 2, 2, 2, 2, 2, 2, 2, 2, 2, 2, 2,\n",
       "       2, 2, 2, 2, 0, 0, 0, 0, 0, 0, 0, 0, 0, 0, 0, 0, 0, 0, 0, 0, 0, 0,\n",
       "       0, 0, 0, 0, 0, 0, 0, 0, 0, 0, 0, 0, 3, 3, 3, 3, 3, 3, 3, 3, 3, 3,\n",
       "       3, 3, 3, 3, 3, 4, 4, 4, 4, 4, 4, 4, 4, 4, 4, 4, 4, 4, 4, 4, 2, 2,\n",
       "       2, 2, 2, 2, 2, 2, 2, 2, 2, 2, 2, 2, 2, 0, 0, 0, 0, 0, 0, 0, 0, 0,\n",
       "       0, 0, 0, 0, 0, 0, 0, 0, 0, 0, 0, 0, 0, 0, 0, 0, 0, 0, 0, 0, 0, 3,\n",
       "       3, 3, 3, 3, 3, 3, 3, 3, 3, 3, 3, 3, 3, 3])"
      ]
     },
     "execution_count": 19,
     "metadata": {},
     "output_type": "execute_result"
    }
   ],
   "source": [
    "savee_label_array"
   ]
  },
  {
   "cell_type": "code",
   "execution_count": 20,
   "metadata": {},
   "outputs": [],
   "source": [
    "### load RAVDESS song data\n",
    "root_dir = \"C:/Users/vamshi/Desktop/ML-3 FINAL/audio_song_actors_01-24\" # entire path has to be given\n",
    "radvess_song_labels = []\n",
    "ravdess_song_data = []\n",
    "for actor_dir in sorted(os.listdir(root_dir)):\n",
    "    actor_name = os.path.join(root_dir, actor_dir)\n",
    "    for file in os.listdir(actor_name):\n",
    "        temp_lable = int2emotion[str(file[6:8])]\n",
    "        if temp_lable in AVAILABLE_EMOTIONS:\n",
    "            radvess_song_labels.append(int(file[7:8])-1)\n",
    "            wav_file_name = os.path.join(root_dir, actor_dir, file)\n",
    "            ravdess_song_data.append(extract_mfcc(wav_file_name))\n"
   ]
  },
  {
   "cell_type": "code",
   "execution_count": 21,
   "metadata": {},
   "outputs": [
    {
     "data": {
      "text/plain": [
       "(644, 40)"
      ]
     },
     "execution_count": 21,
     "metadata": {},
     "output_type": "execute_result"
    }
   ],
   "source": [
    "ravdess_song_data_array = np.asarray(ravdess_song_data)\n",
    "ravdess_song_label_array = np.array(radvess_song_labels)\n",
    "ravdess_song_data_array.shape"
   ]
  },
  {
   "cell_type": "code",
   "execution_count": 22,
   "metadata": {},
   "outputs": [
    {
     "data": {
      "text/plain": [
       "(644,)"
      ]
     },
     "execution_count": 22,
     "metadata": {},
     "output_type": "execute_result"
    }
   ],
   "source": [
    "ravdess_song_label_array.shape"
   ]
  },
  {
   "cell_type": "code",
   "execution_count": 23,
   "metadata": {},
   "outputs": [
    {
     "data": {
      "text/plain": [
       "(1616,)"
      ]
     },
     "execution_count": 23,
     "metadata": {},
     "output_type": "execute_result"
    }
   ],
   "source": [
    " #### combine data\n",
    "data_f= np.r_[data_array, savee_data_array,ravdess_song_data_array]\n",
    "labels_f= np.r_[labels_array,savee_label_array,ravdess_song_label_array ]\n",
    "# data = ravdess_speech_data_array\n",
    "# labels = ravdess_speech_label_array\n",
    "labels_f.shape"
   ]
  },
  {
   "cell_type": "code",
   "execution_count": 24,
   "metadata": {},
   "outputs": [
    {
     "data": {
      "text/plain": [
       "array([0, 0, 0, ..., 4, 4, 4])"
      ]
     },
     "execution_count": 24,
     "metadata": {},
     "output_type": "execute_result"
    }
   ],
   "source": [
    "labels_f"
   ]
  },
  {
   "cell_type": "code",
   "execution_count": 25,
   "metadata": {},
   "outputs": [
    {
     "data": {
      "image/png": "[encoded data removed]",
      "text/plain": [
       "<Figure size 640x480 with 1 Axes>"
      ]
     },
     "metadata": {},
     "output_type": "display_data"
    }
   ],
   "source": [
    "plt.hist(labels_f)\n",
    "plt.show()"
   ]
  },
  {
   "cell_type": "code",
   "execution_count": 26,
   "metadata": {},
   "outputs": [
    {
     "data": {
      "text/plain": [
       "(1616, 5)"
      ]
     },
     "execution_count": 26,
     "metadata": {},
     "output_type": "execute_result"
    }
   ],
   "source": [
    "#changing labels to categorical\n",
    "labels_categorical=to_categorical(labels_f)\n",
    "data_f.shape\n",
    "labels_categorical.shape"
   ]
  },
  {
   "cell_type": "code",
   "execution_count": 27,
   "metadata": {},
   "outputs": [
    {
     "data": {
      "text/plain": [
       "array([[1., 0., 0., 0., 0.],\n",
       "       [1., 0., 0., 0., 0.],\n",
       "       [1., 0., 0., 0., 0.],\n",
       "       ...,\n",
       "       [0., 0., 0., 0., 1.],\n",
       "       [0., 0., 0., 0., 1.],\n",
       "       [0., 0., 0., 0., 1.]], dtype=float32)"
      ]
     },
     "execution_count": 27,
     "metadata": {},
     "output_type": "execute_result"
    }
   ],
   "source": [
    "labels_categorical"
   ]
  },
  {
   "cell_type": "code",
   "execution_count": 28,
   "metadata": {},
   "outputs": [
    {
     "data": {
      "text/plain": [
       "672"
      ]
     },
     "execution_count": 28,
     "metadata": {},
     "output_type": "execute_result"
    }
   ],
   "source": [
    "len(labels)"
   ]
  },
  {
   "cell_type": "code",
   "execution_count": 29,
   "metadata": {},
   "outputs": [],
   "source": [
    "from keras.models import Sequential\n",
    "from keras.layers import *\n",
    "from keras.optimizers import RMSprop"
   ]
  },
  {
   "cell_type": "code",
   "execution_count": 30,
   "metadata": {},
   "outputs": [],
   "source": [
    "def create_model_CNN():\n",
    "    ### CNN model, referred to the model B in the report\n",
    "    model = Sequential()\n",
    "    model.add(Conv1D(8, kernel_size = 3, input_shape=(40, 1)))\n",
    "    model.add(Activation('relu'))\n",
    "    model.add(BatchNormalization(axis=-1))\n",
    "    model.add(Conv1D(16,kernel_size = 3))\n",
    "    model.add(Activation('relu'))\n",
    "    model.add(BatchNormalization(axis=-1))\n",
    "    model.add(MaxPooling1D(pool_size=2))\n",
    "    model.add(Dropout(0.25))\n",
    "    model.add(Conv1D(32, kernel_size = 3))\n",
    "    model.add(Activation('relu'))\n",
    "    model.add(BatchNormalization(axis=-1))\n",
    "    model.add(Conv1D(16, kernel_size = 3))\n",
    "    model.add(Activation('relu'))\n",
    "    model.add(BatchNormalization(axis=-1))\n",
    "    model.add(MaxPooling1D(pool_size=2))\n",
    "    model.add(Dropout(0.25))\n",
    "    model.add(Flatten())\n",
    "    model.add(Dense(256))\n",
    "    model.add(Activation('relu'))\n",
    "    model.add(BatchNormalization(axis=-1))\n",
    "    model.add(Dropout(0.5))\n",
    "    model.add(Dense(5))\n",
    "    model.add(Activation('softmax'))\n",
    "    model.compile(loss='categorical_crossentropy', optimizer='Adam', metrics=['accuracy'])\n",
    "    return model"
   ]
  },
  {
   "cell_type": "code",
   "execution_count": 31,
   "metadata": {},
   "outputs": [],
   "source": [
    "#split data\n",
    "from sklearn.model_selection import train_test_split\n",
    "X_train,X_test,Y_train,Y_test=train_test_split(data_f,labels_categorical,random_state=7,test_size=0.3)"
   ]
  },
  {
   "cell_type": "code",
   "execution_count": 32,
   "metadata": {},
   "outputs": [],
   "source": [
    "#number_of_samples = data_f.shape[0]\n",
    "#training_samples = int(number_of_samples * 0.8)\n",
    "#validation_samples = int(number_of_samples * 0.1)\n",
    "#test_samples = int(number_of_samples * 0.1)"
   ]
  },
  {
   "cell_type": "code",
   "execution_count": 33,
   "metadata": {},
   "outputs": [],
   "source": [
    "model_B = create_model_CNN()"
   ]
  },
  {
   "cell_type": "code",
   "execution_count": 34,
   "metadata": {},
   "outputs": [
    {
     "name": "stdout",
     "output_type": "stream",
     "text": [
      "Epoch 1/100\n",
      "36/36 [==============================] - 5s 24ms/step - loss: 2.3057 - accuracy: 0.2635 - val_loss: 1.4983 - val_accuracy: 0.3443\n",
      "Epoch 2/100\n",
      "36/36 [==============================] - 0s 12ms/step - loss: 1.9162 - accuracy: 0.3280 - val_loss: 1.4634 - val_accuracy: 0.3485\n",
      "Epoch 3/100\n",
      "36/36 [==============================] - 0s 12ms/step - loss: 1.7390 - accuracy: 0.3802 - val_loss: 1.4636 - val_accuracy: 0.3567\n",
      "Epoch 4/100\n",
      "36/36 [==============================] - 0s 11ms/step - loss: 1.6969 - accuracy: 0.3943 - val_loss: 1.4466 - val_accuracy: 0.3711\n",
      "Epoch 5/100\n",
      "36/36 [==============================] - 0s 11ms/step - loss: 1.6653 - accuracy: 0.3917 - val_loss: 1.3821 - val_accuracy: 0.4227\n",
      "Epoch 6/100\n",
      "36/36 [==============================] - 0s 12ms/step - loss: 1.4220 - accuracy: 0.4500 - val_loss: 1.2740 - val_accuracy: 0.4598\n",
      "Epoch 7/100\n",
      "36/36 [==============================] - 0s 10ms/step - loss: 1.3657 - accuracy: 0.4536 - val_loss: 1.1838 - val_accuracy: 0.5072\n",
      "Epoch 8/100\n",
      "36/36 [==============================] - 0s 10ms/step - loss: 1.3275 - accuracy: 0.4828 - val_loss: 1.1228 - val_accuracy: 0.5443\n",
      "Epoch 9/100\n",
      "36/36 [==============================] - 0s 10ms/step - loss: 1.2484 - accuracy: 0.5084 - val_loss: 1.0535 - val_accuracy: 0.5856\n",
      "Epoch 10/100\n",
      "36/36 [==============================] - 0s 10ms/step - loss: 1.2352 - accuracy: 0.4987 - val_loss: 1.0230 - val_accuracy: 0.6124\n",
      "Epoch 11/100\n",
      "36/36 [==============================] - 0s 11ms/step - loss: 1.2169 - accuracy: 0.4987 - val_loss: 0.9761 - val_accuracy: 0.6206\n",
      "Epoch 12/100\n",
      "36/36 [==============================] - 0s 11ms/step - loss: 1.1885 - accuracy: 0.5217 - val_loss: 0.9550 - val_accuracy: 0.6227\n",
      "Epoch 13/100\n",
      "36/36 [==============================] - 0s 12ms/step - loss: 1.1537 - accuracy: 0.5332 - val_loss: 0.9134 - val_accuracy: 0.6371\n",
      "Epoch 14/100\n",
      "36/36 [==============================] - 0s 11ms/step - loss: 1.0901 - accuracy: 0.5544 - val_loss: 0.9001 - val_accuracy: 0.6536\n",
      "Epoch 15/100\n",
      "36/36 [==============================] - 0s 12ms/step - loss: 1.1014 - accuracy: 0.5349 - val_loss: 0.8814 - val_accuracy: 0.6474\n",
      "Epoch 16/100\n",
      "36/36 [==============================] - 0s 12ms/step - loss: 1.0666 - accuracy: 0.5491 - val_loss: 0.8743 - val_accuracy: 0.6619\n",
      "Epoch 17/100\n",
      "36/36 [==============================] - 0s 11ms/step - loss: 1.0275 - accuracy: 0.5632 - val_loss: 0.8657 - val_accuracy: 0.6577\n",
      "Epoch 18/100\n",
      "36/36 [==============================] - 0s 12ms/step - loss: 0.9838 - accuracy: 0.5676 - val_loss: 0.8373 - val_accuracy: 0.6722\n",
      "Epoch 19/100\n",
      "36/36 [==============================] - 0s 13ms/step - loss: 1.0068 - accuracy: 0.5703 - val_loss: 0.8377 - val_accuracy: 0.6660\n",
      "Epoch 20/100\n",
      "36/36 [==============================] - 0s 11ms/step - loss: 0.9589 - accuracy: 0.6074 - val_loss: 0.8213 - val_accuracy: 0.6845\n",
      "Epoch 21/100\n",
      "36/36 [==============================] - 0s 13ms/step - loss: 0.9761 - accuracy: 0.5853 - val_loss: 0.8189 - val_accuracy: 0.6784\n",
      "Epoch 22/100\n",
      "36/36 [==============================] - 0s 13ms/step - loss: 0.9667 - accuracy: 0.6012 - val_loss: 0.8140 - val_accuracy: 0.6825\n",
      "Epoch 23/100\n",
      "36/36 [==============================] - 0s 10ms/step - loss: 0.9292 - accuracy: 0.6127 - val_loss: 0.8075 - val_accuracy: 0.6948\n",
      "Epoch 24/100\n",
      "36/36 [==============================] - 0s 10ms/step - loss: 0.9294 - accuracy: 0.6048 - val_loss: 0.8019 - val_accuracy: 0.6928\n",
      "Epoch 25/100\n",
      "36/36 [==============================] - 0s 10ms/step - loss: 0.9246 - accuracy: 0.6225 - val_loss: 0.7824 - val_accuracy: 0.6990\n",
      "Epoch 26/100\n",
      "36/36 [==============================] - 0s 10ms/step - loss: 0.9267 - accuracy: 0.6233 - val_loss: 0.7704 - val_accuracy: 0.7072\n",
      "Epoch 27/100\n",
      "36/36 [==============================] - 0s 10ms/step - loss: 0.8839 - accuracy: 0.6295 - val_loss: 0.7581 - val_accuracy: 0.7052\n",
      "Epoch 28/100\n",
      "36/36 [==============================] - 0s 10ms/step - loss: 0.8767 - accuracy: 0.6419 - val_loss: 0.7531 - val_accuracy: 0.7134\n",
      "Epoch 29/100\n",
      "36/36 [==============================] - 0s 10ms/step - loss: 0.8774 - accuracy: 0.6322 - val_loss: 0.7402 - val_accuracy: 0.7093\n",
      "Epoch 30/100\n",
      "36/36 [==============================] - 0s 10ms/step - loss: 0.8720 - accuracy: 0.6366 - val_loss: 0.7296 - val_accuracy: 0.7134\n",
      "Epoch 31/100\n",
      "36/36 [==============================] - 0s 10ms/step - loss: 0.8405 - accuracy: 0.6552 - val_loss: 0.7289 - val_accuracy: 0.7031\n",
      "Epoch 32/100\n",
      "36/36 [==============================] - 0s 10ms/step - loss: 0.8794 - accuracy: 0.6401 - val_loss: 0.7196 - val_accuracy: 0.7216\n",
      "Epoch 33/100\n",
      "36/36 [==============================] - 0s 10ms/step - loss: 0.8488 - accuracy: 0.6401 - val_loss: 0.7284 - val_accuracy: 0.7134\n",
      "Epoch 34/100\n",
      "36/36 [==============================] - 0s 11ms/step - loss: 0.8674 - accuracy: 0.6348 - val_loss: 0.7249 - val_accuracy: 0.7134\n",
      "Epoch 35/100\n",
      "36/36 [==============================] - 0s 11ms/step - loss: 0.8337 - accuracy: 0.6746 - val_loss: 0.7184 - val_accuracy: 0.7134\n",
      "Epoch 36/100\n",
      "36/36 [==============================] - 0s 11ms/step - loss: 0.8211 - accuracy: 0.6508 - val_loss: 0.6912 - val_accuracy: 0.7196\n",
      "Epoch 37/100\n",
      "36/36 [==============================] - 0s 11ms/step - loss: 0.7885 - accuracy: 0.6676 - val_loss: 0.6805 - val_accuracy: 0.7423\n",
      "Epoch 38/100\n",
      "36/36 [==============================] - 0s 11ms/step - loss: 0.7605 - accuracy: 0.6799 - val_loss: 0.6882 - val_accuracy: 0.7361\n",
      "Epoch 39/100\n",
      "36/36 [==============================] - 0s 11ms/step - loss: 0.7832 - accuracy: 0.6941 - val_loss: 0.6938 - val_accuracy: 0.7299\n",
      "Epoch 40/100\n",
      "36/36 [==============================] - 0s 10ms/step - loss: 0.7888 - accuracy: 0.6808 - val_loss: 0.6983 - val_accuracy: 0.7258\n",
      "Epoch 41/100\n",
      "36/36 [==============================] - 0s 10ms/step - loss: 0.7762 - accuracy: 0.6746 - val_loss: 0.6754 - val_accuracy: 0.7340\n",
      "Epoch 42/100\n",
      "36/36 [==============================] - 0s 11ms/step - loss: 0.7565 - accuracy: 0.6932 - val_loss: 0.6635 - val_accuracy: 0.7423\n",
      "Epoch 43/100\n",
      "36/36 [==============================] - 0s 10ms/step - loss: 0.8001 - accuracy: 0.6622 - val_loss: 0.6573 - val_accuracy: 0.7464\n",
      "Epoch 44/100\n",
      "36/36 [==============================] - 0s 12ms/step - loss: 0.7454 - accuracy: 0.6879 - val_loss: 0.6752 - val_accuracy: 0.7443\n",
      "Epoch 45/100\n",
      "36/36 [==============================] - 0s 11ms/step - loss: 0.7319 - accuracy: 0.7011 - val_loss: 0.6682 - val_accuracy: 0.7526\n",
      "Epoch 46/100\n",
      "36/36 [==============================] - 0s 10ms/step - loss: 0.7436 - accuracy: 0.6941 - val_loss: 0.6659 - val_accuracy: 0.7340\n",
      "Epoch 47/100\n",
      "36/36 [==============================] - 0s 10ms/step - loss: 0.7219 - accuracy: 0.7020 - val_loss: 0.6561 - val_accuracy: 0.7320\n",
      "Epoch 48/100\n",
      "36/36 [==============================] - 0s 9ms/step - loss: 0.7411 - accuracy: 0.6932 - val_loss: 0.6512 - val_accuracy: 0.7505\n",
      "Epoch 49/100\n",
      "36/36 [==============================] - 0s 11ms/step - loss: 0.7131 - accuracy: 0.7082 - val_loss: 0.6438 - val_accuracy: 0.7423\n",
      "Epoch 50/100\n",
      "36/36 [==============================] - 0s 10ms/step - loss: 0.7396 - accuracy: 0.6879 - val_loss: 0.6574 - val_accuracy: 0.7546\n",
      "Epoch 51/100\n",
      "36/36 [==============================] - 0s 10ms/step - loss: 0.7099 - accuracy: 0.7126 - val_loss: 0.6503 - val_accuracy: 0.7546\n",
      "Epoch 52/100\n",
      "36/36 [==============================] - 0s 10ms/step - loss: 0.6899 - accuracy: 0.7206 - val_loss: 0.6342 - val_accuracy: 0.7526\n",
      "Epoch 53/100\n",
      "36/36 [==============================] - 0s 10ms/step - loss: 0.6808 - accuracy: 0.7224 - val_loss: 0.6166 - val_accuracy: 0.7629\n",
      "Epoch 54/100\n",
      "36/36 [==============================] - 0s 12ms/step - loss: 0.7293 - accuracy: 0.7171 - val_loss: 0.6179 - val_accuracy: 0.7546\n",
      "Epoch 55/100\n",
      "36/36 [==============================] - 0s 11ms/step - loss: 0.6822 - accuracy: 0.7091 - val_loss: 0.6229 - val_accuracy: 0.7526\n",
      "Epoch 56/100\n",
      "36/36 [==============================] - 0s 11ms/step - loss: 0.6800 - accuracy: 0.7339 - val_loss: 0.6373 - val_accuracy: 0.7381\n",
      "Epoch 57/100\n",
      "36/36 [==============================] - 0s 11ms/step - loss: 0.6727 - accuracy: 0.7241 - val_loss: 0.6426 - val_accuracy: 0.7505\n",
      "Epoch 58/100\n"
     ]
    },
    {
     "name": "stdout",
     "output_type": "stream",
     "text": [
      "36/36 [==============================] - 0s 11ms/step - loss: 0.6973 - accuracy: 0.7303 - val_loss: 0.6124 - val_accuracy: 0.7381\n",
      "Epoch 59/100\n",
      "36/36 [==============================] - 0s 11ms/step - loss: 0.6260 - accuracy: 0.7498 - val_loss: 0.6009 - val_accuracy: 0.7629\n",
      "Epoch 60/100\n",
      "36/36 [==============================] - 0s 11ms/step - loss: 0.6717 - accuracy: 0.7224 - val_loss: 0.5941 - val_accuracy: 0.7670\n",
      "Epoch 61/100\n",
      "36/36 [==============================] - 0s 11ms/step - loss: 0.6696 - accuracy: 0.7162 - val_loss: 0.6055 - val_accuracy: 0.7670\n",
      "Epoch 62/100\n",
      "36/36 [==============================] - 0s 12ms/step - loss: 0.6714 - accuracy: 0.7197 - val_loss: 0.6337 - val_accuracy: 0.7505\n",
      "Epoch 63/100\n",
      "36/36 [==============================] - 0s 12ms/step - loss: 0.6408 - accuracy: 0.7533 - val_loss: 0.6158 - val_accuracy: 0.7588\n",
      "Epoch 64/100\n",
      "36/36 [==============================] - 0s 10ms/step - loss: 0.6470 - accuracy: 0.7392 - val_loss: 0.6348 - val_accuracy: 0.7505\n",
      "Epoch 65/100\n",
      "36/36 [==============================] - 0s 10ms/step - loss: 0.6160 - accuracy: 0.7498 - val_loss: 0.6053 - val_accuracy: 0.7588\n",
      "Epoch 66/100\n",
      "36/36 [==============================] - 0s 10ms/step - loss: 0.6464 - accuracy: 0.7418 - val_loss: 0.5935 - val_accuracy: 0.7711\n",
      "Epoch 67/100\n",
      "36/36 [==============================] - 0s 10ms/step - loss: 0.6437 - accuracy: 0.7454 - val_loss: 0.5920 - val_accuracy: 0.7670\n",
      "Epoch 68/100\n",
      "36/36 [==============================] - 0s 10ms/step - loss: 0.6128 - accuracy: 0.7569 - val_loss: 0.6095 - val_accuracy: 0.7546\n",
      "Epoch 69/100\n",
      "36/36 [==============================] - 0s 10ms/step - loss: 0.6428 - accuracy: 0.7480 - val_loss: 0.5891 - val_accuracy: 0.7608\n",
      "Epoch 70/100\n",
      "36/36 [==============================] - 0s 10ms/step - loss: 0.6018 - accuracy: 0.7666 - val_loss: 0.5792 - val_accuracy: 0.7629\n",
      "Epoch 71/100\n",
      "36/36 [==============================] - 0s 9ms/step - loss: 0.6310 - accuracy: 0.7445 - val_loss: 0.5789 - val_accuracy: 0.7629\n",
      "Epoch 72/100\n",
      "36/36 [==============================] - 0s 10ms/step - loss: 0.6428 - accuracy: 0.7454 - val_loss: 0.5954 - val_accuracy: 0.7753\n",
      "Epoch 73/100\n",
      "36/36 [==============================] - 0s 10ms/step - loss: 0.6306 - accuracy: 0.7454 - val_loss: 0.6112 - val_accuracy: 0.7567\n",
      "Epoch 74/100\n",
      "36/36 [==============================] - 0s 10ms/step - loss: 0.5975 - accuracy: 0.7462 - val_loss: 0.6038 - val_accuracy: 0.7526\n",
      "Epoch 75/100\n",
      "36/36 [==============================] - 0s 9ms/step - loss: 0.5915 - accuracy: 0.7728 - val_loss: 0.6046 - val_accuracy: 0.7485\n",
      "Epoch 76/100\n",
      "36/36 [==============================] - 0s 10ms/step - loss: 0.5637 - accuracy: 0.7922 - val_loss: 0.5963 - val_accuracy: 0.7588\n",
      "Epoch 77/100\n",
      "36/36 [==============================] - 0s 10ms/step - loss: 0.6266 - accuracy: 0.7569 - val_loss: 0.5859 - val_accuracy: 0.7691\n",
      "Epoch 78/100\n",
      "36/36 [==============================] - 0s 10ms/step - loss: 0.5799 - accuracy: 0.7613 - val_loss: 0.5859 - val_accuracy: 0.7629\n",
      "Epoch 79/100\n",
      "36/36 [==============================] - 0s 10ms/step - loss: 0.5929 - accuracy: 0.7701 - val_loss: 0.6005 - val_accuracy: 0.7588\n",
      "Epoch 80/100\n",
      "36/36 [==============================] - 0s 10ms/step - loss: 0.6081 - accuracy: 0.7666 - val_loss: 0.5822 - val_accuracy: 0.7773\n",
      "Epoch 81/100\n",
      "36/36 [==============================] - 0s 10ms/step - loss: 0.5590 - accuracy: 0.7728 - val_loss: 0.5771 - val_accuracy: 0.7938\n",
      "Epoch 82/100\n",
      "36/36 [==============================] - 0s 10ms/step - loss: 0.5517 - accuracy: 0.8011 - val_loss: 0.5689 - val_accuracy: 0.7753\n",
      "Epoch 83/100\n",
      "36/36 [==============================] - 0s 9ms/step - loss: 0.5252 - accuracy: 0.7931 - val_loss: 0.5552 - val_accuracy: 0.7835\n",
      "Epoch 84/100\n",
      "36/36 [==============================] - 0s 10ms/step - loss: 0.5904 - accuracy: 0.7604 - val_loss: 0.5725 - val_accuracy: 0.7546\n",
      "Epoch 85/100\n",
      "36/36 [==============================] - 0s 10ms/step - loss: 0.5921 - accuracy: 0.7409 - val_loss: 0.5715 - val_accuracy: 0.7629\n",
      "Epoch 86/100\n",
      "36/36 [==============================] - 0s 10ms/step - loss: 0.5501 - accuracy: 0.7816 - val_loss: 0.5371 - val_accuracy: 0.7835\n",
      "Epoch 87/100\n",
      "36/36 [==============================] - 0s 10ms/step - loss: 0.5564 - accuracy: 0.7772 - val_loss: 0.5610 - val_accuracy: 0.7814\n",
      "Epoch 88/100\n",
      "36/36 [==============================] - 0s 11ms/step - loss: 0.5202 - accuracy: 0.7887 - val_loss: 0.5474 - val_accuracy: 0.7794\n",
      "Epoch 89/100\n",
      "36/36 [==============================] - 0s 10ms/step - loss: 0.5248 - accuracy: 0.7993 - val_loss: 0.5465 - val_accuracy: 0.7670\n",
      "Epoch 90/100\n",
      "36/36 [==============================] - 0s 10ms/step - loss: 0.5814 - accuracy: 0.7648 - val_loss: 0.5331 - val_accuracy: 0.7856\n",
      "Epoch 91/100\n",
      "36/36 [==============================] - 0s 9ms/step - loss: 0.5623 - accuracy: 0.7869 - val_loss: 0.5521 - val_accuracy: 0.7649\n",
      "Epoch 92/100\n",
      "36/36 [==============================] - 0s 10ms/step - loss: 0.5672 - accuracy: 0.7692 - val_loss: 0.5478 - val_accuracy: 0.8021\n",
      "Epoch 93/100\n",
      "36/36 [==============================] - 0s 9ms/step - loss: 0.5398 - accuracy: 0.7913 - val_loss: 0.5567 - val_accuracy: 0.7835\n",
      "Epoch 94/100\n",
      "36/36 [==============================] - 0s 9ms/step - loss: 0.5262 - accuracy: 0.7878 - val_loss: 0.5600 - val_accuracy: 0.7835\n",
      "Epoch 95/100\n",
      "36/36 [==============================] - 0s 10ms/step - loss: 0.5640 - accuracy: 0.7745 - val_loss: 0.5446 - val_accuracy: 0.7773\n",
      "Epoch 96/100\n",
      "36/36 [==============================] - 0s 10ms/step - loss: 0.5167 - accuracy: 0.7834 - val_loss: 0.5585 - val_accuracy: 0.7897\n",
      "Epoch 97/100\n",
      "36/36 [==============================] - 0s 12ms/step - loss: 0.5291 - accuracy: 0.7905 - val_loss: 0.5336 - val_accuracy: 0.7897\n",
      "Epoch 98/100\n",
      "36/36 [==============================] - 0s 11ms/step - loss: 0.5242 - accuracy: 0.7887 - val_loss: 0.5494 - val_accuracy: 0.7897\n",
      "Epoch 99/100\n",
      "36/36 [==============================] - 0s 11ms/step - loss: 0.5091 - accuracy: 0.7896 - val_loss: 0.5345 - val_accuracy: 0.7897\n",
      "Epoch 100/100\n",
      "36/36 [==============================] - 0s 11ms/step - loss: 0.5323 - accuracy: 0.7851 - val_loss: 0.5575 - val_accuracy: 0.7711\n"
     ]
    }
   ],
   "source": [
    "history = model_B.fit(np.expand_dims(X_train,-1), Y_train, \n",
    "                      validation_data=(np.expand_dims(X_test ,-1), \n",
    "                                       Y_test), epochs=100,\n",
    "                      shuffle=True)"
   ]
  },
  {
   "cell_type": "markdown",
   "metadata": {},
   "source": [
    "###  evaluate  model "
   ]
  },
  {
   "cell_type": "code",
   "execution_count": 35,
   "metadata": {},
   "outputs": [
    {
     "name": "stdout",
     "output_type": "stream",
     "text": [
      "16/16 [==============================] - 0s 4ms/step - loss: 0.5575 - accuracy: 0.7711\n"
     ]
    },
    {
     "data": {
      "text/plain": [
       "[0.557458758354187, 0.7711340188980103]"
      ]
     },
     "execution_count": 35,
     "metadata": {},
     "output_type": "execute_result"
    }
   ],
   "source": [
    "model_B.evaluate(np.expand_dims(X_test, -1), Y_test)"
   ]
  },
  {
   "cell_type": "code",
   "execution_count": 36,
   "metadata": {},
   "outputs": [
    {
     "name": "stdout",
     "output_type": "stream",
     "text": [
      "16/16 [==============================] - 0s 4ms/step - loss: 0.5575 - accuracy: 0.7711\n",
      "77.11340188980103 %\n"
     ]
    }
   ],
   "source": [
    "print(model_B.evaluate(np.expand_dims(X_test, -1), Y_test)[1]*100 , \"%\")"
   ]
  },
  {
   "cell_type": "code",
   "execution_count": 37,
   "metadata": {},
   "outputs": [],
   "source": [
    "model_B.save('4EmotionsModel.h5')"
   ]
  },
  {
   "cell_type": "code",
   "execution_count": 49,
   "metadata": {},
   "outputs": [
    {
     "name": "stdout",
     "output_type": "stream",
     "text": [
      "Please talk\n",
      "1/1 [==============================] - 0s 31ms/step\n",
      "angry\n"
     ]
    }
   ],
   "source": [
    "import pyaudio\n",
    "import os\n",
    "import wave\n",
    "import pickle\n",
    "from sys import byteorder\n",
    "from array import array\n",
    "from struct import pack\n",
    "\n",
    "intemotion = {\n",
    "    0: \"neutral\",\n",
    "    1: \"calm\",\n",
    "    2: \"happy\",\n",
    "    3: \"sad\",\n",
    "    4: \"angry\",\n",
    "    5: \"fearful\",\n",
    "    6: \"disgust\",\n",
    "    7: \"surprised\"\n",
    "}\n",
    "\n",
    "\n",
    "THRESHOLD = 500\n",
    "CHUNK_SIZE = 1024\n",
    "FORMAT = pyaudio.paInt16\n",
    "RATE = 16000\n",
    "\n",
    "SILENCE = 30\n",
    "\n",
    "def is_silent(snd_data):\n",
    "    \"Returns 'True' if below the 'silent' threshold\"\n",
    "    return max(snd_data) < THRESHOLD\n",
    "\n",
    "def normalize(snd_data):\n",
    "    \"Average the volume out\"\n",
    "    MAXIMUM = 16384\n",
    "    times = float(MAXIMUM)/max(abs(i) for i in snd_data)\n",
    "\n",
    "    r = array('h')\n",
    "    for i in snd_data:\n",
    "        r.append(int(i*times))\n",
    "    return r\n",
    "\n",
    "def trim(snd_data):\n",
    "    \"Trim the blank spots at the start and end\"\n",
    "    def _trim(snd_data):\n",
    "        snd_started = False\n",
    "        r = array('h')\n",
    "\n",
    "        for i in snd_data:\n",
    "            if not snd_started and abs(i)>THRESHOLD:\n",
    "                snd_started = True\n",
    "                r.append(i)\n",
    "\n",
    "            elif snd_started:\n",
    "                r.append(i)\n",
    "        return r\n",
    "\n",
    "    # Trim to the left\n",
    "    snd_data = _trim(snd_data)\n",
    "\n",
    "    # Trim to the right\n",
    "    snd_data.reverse()\n",
    "    snd_data = _trim(snd_data)\n",
    "    snd_data.reverse()\n",
    "    return snd_data\n",
    "\n",
    "def add_silence(snd_data, seconds):\n",
    "    \"Add silence to the start and end of 'snd_data' of length 'seconds' (float)\"\n",
    "    r = array('h', [0 for i in range(int(seconds*RATE))])\n",
    "    r.extend(snd_data)\n",
    "    r.extend([0 for i in range(int(seconds*RATE))])\n",
    "    return r\n",
    "\n",
    "def record():\n",
    "    \"\"\"\n",
    "    Record a word or words from the microphone and \n",
    "    return the data as an array of signed shorts.\n",
    "    Normalizes the audio, trims silence from the \n",
    "    start and end, and pads with 0.5 seconds of \n",
    "    blank sound to make sure VLC et al can play \n",
    "    it without getting chopped off.\n",
    "    \"\"\"\n",
    "    p = pyaudio.PyAudio()\n",
    "    stream = p.open(format=FORMAT, channels=1, rate=RATE,\n",
    "        input=True, output=True,\n",
    "        frames_per_buffer=CHUNK_SIZE)\n",
    "\n",
    "    num_silent = 0\n",
    "    snd_started = False\n",
    "\n",
    "    r = array('h')\n",
    "\n",
    "    while 1:\n",
    "        # little endian, signed short\n",
    "        snd_data = array('h', stream.read(CHUNK_SIZE))\n",
    "        if byteorder == 'big':\n",
    "            snd_data.byteswap()\n",
    "        r.extend(snd_data)\n",
    "\n",
    "        silent = is_silent(snd_data)\n",
    "\n",
    "        if silent and snd_started:\n",
    "            num_silent += 1\n",
    "        elif not silent and not snd_started:\n",
    "            snd_started = True\n",
    "\n",
    "        if snd_started and num_silent > SILENCE:\n",
    "            break\n",
    "\n",
    "    sample_width = p.get_sample_size(FORMAT)\n",
    "    stream.stop_stream()\n",
    "    stream.close()\n",
    "    p.terminate()\n",
    "\n",
    "    r = normalize(r)\n",
    "    r = trim(r)\n",
    "    r = add_silence(r, 0.5)\n",
    "    return sample_width, r\n",
    "\n",
    "def record_to_file(path):\n",
    "    \"Records from the microphone and outputs the resulting data to 'path'\"\n",
    "    sample_width, data = record()\n",
    "    data = pack('<' + ('h'*len(data)), *data)\n",
    "\n",
    "    wf = wave.open(path, 'wb')\n",
    "    wf.setnchannels(1)\n",
    "    wf.setsampwidth(sample_width)\n",
    "    wf.setframerate(RATE)\n",
    "    wf.writeframes(data)\n",
    "    wf.close()\n",
    "\n",
    "\n",
    "\n",
    "if __name__ == \"__main__\":\n",
    "    # load the saved model (after training)\n",
    "#     model = pickle.load(open(\"result/mlp_classifier.model\", \"rb\"))\n",
    "    print(\"Please talk\")\n",
    "    filename = \"test.wav\"\n",
    "    # record the file (start talking)\n",
    "    record_to_file(filename)\n",
    "    # extract features and reshape it\n",
    "    features = extract_mfcc(filename)\n",
    "    # predict\n",
    "    result = model_B.predict(features.reshape(1,40,1))[0]\n",
    "    # show the result !\n",
    "#     print(\"result:\", result)\n",
    "    print(intemotion[np.argmax(result)])"
   ]
  },
  {
   "cell_type": "code",
   "execution_count": 47,
   "metadata": {},
   "outputs": [
    {
     "data": {
      "image/png": "[encoded data removed]",
      "text/plain": [
       "<Figure size 2000x600 with 2 Axes>"
      ]
     },
     "metadata": {},
     "output_type": "display_data"
    }
   ],
   "source": [
    "epochs = [i for i in range(100)]\n",
    "fig , ax = plt.subplots(1,2)\n",
    "train_acc = history.history['accuracy']\n",
    "train_loss = history.history['loss']\n",
    "test_acc = history.history['val_accuracy']\n",
    "test_loss = history.history['val_loss']\n",
    "\n",
    "fig.set_size_inches(20,6)\n",
    "ax[0].plot(epochs , train_loss , label = 'Training Loss')\n",
    "ax[0].plot(epochs , test_loss , label = 'Testing Loss')\n",
    "ax[0].set_title('Training & Testing Loss')\n",
    "ax[0].legend()\n",
    "ax[0].set_xlabel(\"Epochs\")\n",
    "\n",
    "ax[1].plot(epochs , train_acc , label = 'Training Accuracy')\n",
    "ax[1].plot(epochs , test_acc , label = 'Testing Accuracy')\n",
    "ax[1].set_title('Training & Testing Accuracy')\n",
    "ax[1].legend()\n",
    "ax[1].set_xlabel(\"Epochs\")\n",
    "plt.show()"
   ]
  }
 ],
 "metadata": {
  "kernelspec": {
   "display_name": "Python 3 (ipykernel)",
   "language": "python",
   "name": "python3"
  },
  "language_info": {
   "codemirror_mode": {
    "name": "ipython",
    "version": 3
   },
   "file_extension": ".py",
   "mimetype": "text/x-python",
   "name": "python",
   "nbconvert_exporter": "python",
   "pygments_lexer": "ipython3",
   "version": "3.9.13"
  }
 },
 "nbformat": 4,
 "nbformat_minor": 2
}
